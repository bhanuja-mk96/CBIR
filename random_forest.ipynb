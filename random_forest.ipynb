{
  "nbformat": 4,
  "nbformat_minor": 0,
  "metadata": {
    "colab": {
      "name": "random forest.ipynb",
      "provenance": [],
      "authorship_tag": "ABX9TyOGmjILmauJ1R2HwyzF4Bln",
      "include_colab_link": true
    },
    "kernelspec": {
      "name": "python3",
      "display_name": "Python 3"
    },
    "language_info": {
      "name": "python"
    }
  },
  "cells": [
    {
      "cell_type": "markdown",
      "metadata": {
        "id": "view-in-github",
        "colab_type": "text"
      },
      "source": [
        "<a href=\"https://colab.research.google.com/github/bhanuja-mk96/CBIR/blob/master/random_forest.ipynb\" target=\"_parent\"><img src=\"https://colab.research.google.com/assets/colab-badge.svg\" alt=\"Open In Colab\"/></a>"
      ]
    },
    {
      "cell_type": "code",
      "execution_count": 1,
      "metadata": {
        "id": "mJmdIU4Vzmu_"
      },
      "outputs": [],
      "source": [
        "# Importing the libraries\n",
        "import numpy as np\n",
        "import matplotlib.pyplot as plt\n",
        "import pandas as pd\n"
      ]
    },
    {
      "cell_type": "code",
      "source": [
        "data = pd.read_csv('image.csv')\n",
        "print(data)\n"
      ],
      "metadata": {
        "colab": {
          "base_uri": "https://localhost:8080/"
        },
        "id": "muRV5ZxW0MHv",
        "outputId": "6e27f626-5615-44f2-e3ed-fef97424ab08"
      },
      "execution_count": 20,
      "outputs": [
        {
          "output_type": "stream",
          "name": "stdout",
          "text": [
            "       age  fnlwgt  education-num  capital-gain  capital-loss  hours-per-wee  \\\n",
            "0       39   77516             13          2174             0             40   \n",
            "1       50   83311             13             0             0             13   \n",
            "2       38  215646              9             0             0             40   \n",
            "3       53  234721              7             0             0             40   \n",
            "4       28  338409             13             0             0             40   \n",
            "...    ...     ...            ...           ...           ...            ...   \n",
            "32556   27  257302             12             0             0             38   \n",
            "32557   40  154374              9             0             0             40   \n",
            "32558   58  151910              9             0             0             40   \n",
            "32559   22  201490              9             0             0             20   \n",
            "32560   52  287927              9         15024             0             40   \n",
            "\n",
            "       salary  \n",
            "0          50  \n",
            "1          50  \n",
            "2          50  \n",
            "3          50  \n",
            "4          50  \n",
            "...       ...  \n",
            "32556      50  \n",
            "32557      50  \n",
            "32558      50  \n",
            "32559      50  \n",
            "32560      50  \n",
            "\n",
            "[32561 rows x 7 columns]\n"
          ]
        }
      ]
    },
    {
      "cell_type": "code",
      "source": [
        "x= data.iloc [:, : -6].values\n",
        "y= data.iloc [:, 1:2].values"
      ],
      "metadata": {
        "id": "VT5zZ32d2JBt"
      },
      "execution_count": 52,
      "outputs": []
    },
    {
      "cell_type": "code",
      "source": [
        "\n",
        "from sklearn.ensemble import RandomForestRegressor\n",
        "\n",
        "# create regressor object\n",
        "regressor = RandomForestRegressor(n_estimators = 100, random_state = 0)\n",
        "\n",
        "# fit the regressor with x and y data\n",
        "regressor.fit(x, y)\n"
      ],
      "metadata": {
        "colab": {
          "base_uri": "https://localhost:8080/"
        },
        "id": "yoicJ4gd22vR",
        "outputId": "c942ad54-bf6c-4dd8-94d5-c4d2050ec545"
      },
      "execution_count": 53,
      "outputs": [
        {
          "output_type": "stream",
          "name": "stderr",
          "text": [
            "/usr/local/lib/python3.7/dist-packages/ipykernel_launcher.py:8: DataConversionWarning: A column-vector y was passed when a 1d array was expected. Please change the shape of y to (n_samples,), for example using ravel().\n",
            "  \n"
          ]
        },
        {
          "output_type": "execute_result",
          "data": {
            "text/plain": [
              "RandomForestRegressor(random_state=0)"
            ]
          },
          "metadata": {},
          "execution_count": 53
        }
      ]
    },
    {
      "cell_type": "code",
      "source": [
        "Y_pred = regressor.predict(np.array([6.5]).reshape(1, 1)) # test the output by changing values\n"
      ],
      "metadata": {
        "id": "cz10koOP4-vL"
      },
      "execution_count": 54,
      "outputs": []
    },
    {
      "cell_type": "code",
      "source": [
        "\n",
        "X_grid = np.arange(min(x), max(x), 0.01)\n",
        "\t\t\t\n",
        "X_grid = X_grid.reshape((len(X_grid), 1))\n",
        "\n",
        "plt.scatter(x, y, color = 'red')\n",
        "\n",
        "plt.plot(X_grid, regressor.predict(X_grid),\n",
        "\t\tcolor = 'blue')\n",
        "plt.title('Random Forest Regression')\n",
        "plt.xlabel('Position level')\n",
        "plt.ylabel('Class')\n",
        "plt.show()\n"
      ],
      "metadata": {
        "colab": {
          "base_uri": "https://localhost:8080/",
          "height": 295
        },
        "id": "ydU1H0d568dF",
        "outputId": "938edf43-ef29-4b82-d59c-9eead3385889"
      },
      "execution_count": 57,
      "outputs": [
        {
          "output_type": "display_data",
          "data": {
            "text/plain": [
              "<Figure size 432x288 with 1 Axes>"
            ],
            "image/png": "[encoded data removed]"
          },
          "metadata": {
            "needs_background": "light"
          }
        }
      ]
    }
  ]
}